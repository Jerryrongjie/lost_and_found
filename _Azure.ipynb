{
 "cells": [
  {
   "cell_type": "markdown",
   "metadata": {},
   "source": [
    "# Azure计算机视觉\n",
    "\n",
    "- 输入：图片 url\n",
    "\n",
    "- 输出：图片类型和图片标签"
   ]
  },
  {
   "cell_type": "code",
   "execution_count": 2,
   "metadata": {},
   "outputs": [
    {
     "name": "stdout",
     "output_type": "stream",
     "text": [
      "{'categories': [{'name': '抽象_形状', 'score': 0.10546875}, {'name': '其他_', 'score': 0.3671875}], 'tags': [{'name': '耳机', 'confidence': 0.9655405282974243}, {'name': '电缆', 'confidence': 0.8966017961502075}, {'name': '电线', 'confidence': 0.7290467023849487}, {'name': '音频设备', 'confidence': 0.692907452583313}, {'name': '电脑鼠标', 'confidence': 0.5611826777458191}, {'name': '头戴式受话器', 'confidence': 0.5280097126960754}], 'requestId': '11c6d277-476b-4412-984f-02a39b213419', 'metadata': {'width': 294, 'height': 195, 'format': 'Jpeg'}}\n"
     ]
    }
   ],
   "source": [
    "import http.client, urllib.request, urllib.parse, urllib.error, base64\n",
    "import requests\n",
    "import json\n",
    "\n",
    "headers = {\n",
    "    # Request headers\n",
    "    'Content-Type': 'application/json',\n",
    "    'Ocp-Apim-Subscription-Key': 'xxx', # 改成自己的key\n",
    "}\n",
    "\n",
    "params = urllib.parse.urlencode({\n",
    "    # Request parameters\n",
    "    'visualFeatures': 'Categories,Tags',\n",
    "    'language': 'zh',\n",
    "})\n",
    "\n",
    "url = 'https://xxx/vision/v2.0/analyze' # 改成自己的站点\n",
    "image_url = 'http://inews.gtimg.com/newsapp_ls/0/10966517164_294195/0.jpg' # 可以修改图片的地址\n",
    "\n",
    "response = requests.post(url, params=params, headers=headers, json={\"url\": image_url})\n",
    "vison = response.json()\n",
    "\n",
    "print(vison)"
   ]
  }
 ],
 "metadata": {
  "kernelspec": {
   "display_name": "Python 3",
   "language": "python",
   "name": "python3"
  },
  "language_info": {
   "codemirror_mode": {
    "name": "ipython",
    "version": 3
   },
   "file_extension": ".py",
   "mimetype": "text/x-python",
   "name": "python",
   "nbconvert_exporter": "python",
   "pygments_lexer": "ipython3",
   "version": "3.7.4"
  }
 },
 "nbformat": 4,
 "nbformat_minor": 2
}
