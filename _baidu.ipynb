{
 "cells": [
  {
   "cell_type": "code",
   "execution_count": 1,
   "metadata": {},
   "outputs": [
    {
     "name": "stdout",
     "output_type": "stream",
     "text": [
      "{'refresh_token': '25.4498ed76bcce2a1a045b5f1efc5436b9.315360000.1894167010.282335-18101861', 'expires_in': 2592000, 'session_key': '9mzdAvCQlDhj4YWmEV4Twc3bLDrGUg73SESc4UaGADGcLzjaumvJZ/2WQhWIlKed7oYIwqqjHxhneBrdukchQlkBvNc+vQ==', 'access_token': '24.923de618ea3d96aaa0783a23ee759040.2592000.1581399010.282335-18101861', 'scope': 'public brain_ocr_general_basic brain_all_scope vis-classify_实时检索-相似 brain_object_detect brain_realtime_same_hq brain_realtime_similar brain_solution_iocr brain_realtime_product wise_adapt lebo_resource_base lightservice_public hetu_basic lightcms_map_poi kaidian_kaidian ApsMisTest_Test权限 vis-classify_flower lpq_开放 cop_helloScope ApsMis_fangdi_permission smartapp_snsapi_base iop_autocar oauth_tp_app smartapp_smart_game_openapi oauth_sessionkey smartapp_swanid_verify smartapp_opensource_openapi smartapp_opensource_recapi fake_face_detect_开放Scope vis-ocr_虚拟人物助理 idl-video_虚拟人物助理', 'session_secret': 'e6d06a60a9cfe87425661d568ee59f05'}\n"
     ]
    }
   ],
   "source": [
    "import requests \n",
    "\n",
    "# client_id 为官网获取的AK， client_secret 为官网获取的SK\n",
    "host = '[根据自己申请的 ak sk编写]' # 至官网获取\n",
    "response = requests.get(host)\n",
    "if response:\n",
    "    print(response.json())"
   ]
  },
  {
   "cell_type": "markdown",
   "metadata": {},
   "source": [
    "# 相似图检索入库\n",
    "\n",
    "- 输入： 图片的 本地路径\n",
    "- 输出： 录入详情"
   ]
  },
  {
   "cell_type": "code",
   "execution_count": 3,
   "metadata": {},
   "outputs": [
    {
     "name": "stdout",
     "output_type": "stream",
     "text": [
      "{'log_id': 8500663787558597708, 'cont_sign': '66767760,2298385377'}\n"
     ]
    }
   ],
   "source": [
    "# encoding:utf-8\n",
    "\n",
    "import requests\n",
    "import base64\n",
    "\n",
    "'''\n",
    "相似图检索—入库\n",
    "'''\n",
    "\n",
    "request_url = \"https://aip.baidubce.com/rest/2.0/image-classify/v1/realtime_search/similar/add\"\n",
    "# 二进制方式打开图片文件\n",
    "f = open('C:/Users/kedre/Desktop/API/相似库/耳机.jpg', 'rb')\n",
    "img = base64.b64encode(f.read())\n",
    "\n",
    "params = {\"brief\":\"{\\\"name\\\":\\\"耳机\\\", \\\"id\\\":\\\"100\\\"}\",\"image\":img,\"tags\":\"100\"}  # 改成自己的\n",
    "access_token = '[调用鉴权接口获取的token]' # 改成自己的\n",
    "request_url = request_url + \"?access_token=\" + access_token\n",
    "headers = {'content-type': 'application/x-www-form-urlencoded'}\n",
    "response = requests.post(request_url, data=params, headers=headers)\n",
    "if response:\n",
    "    print (response.json())"
   ]
  },
  {
   "cell_type": "markdown",
   "metadata": {},
   "source": [
    "# 相似图检索入库\n",
    "\n",
    "- 输入： 图片的 本地路径\n",
    "- 输出： 图片检索结果"
   ]
  },
  {
   "cell_type": "code",
   "execution_count": 4,
   "metadata": {},
   "outputs": [
    {
     "name": "stdout",
     "output_type": "stream",
     "text": [
      "{'has_more': False, 'log_id': 7828826018240519468, 'result_num': 0, 'result': []}\n"
     ]
    }
   ],
   "source": [
    "# encoding:utf-8\n",
    "\n",
    "import requests\n",
    "import base64\n",
    "\n",
    "'''\n",
    "相似图检索—检索\n",
    "'''\n",
    "\n",
    "request_url = \"https://aip.baidubce.com/rest/2.0/image-classify/v1/realtime_search/similar/search\"\n",
    "# 二进制方式打开图片文件\n",
    "f = open('C:/Users/kedre/Desktop/API/相似库/耳机.jpg', 'rb')\n",
    "img = base64.b64encode(f.read())\n",
    "\n",
    "params = {\"image\":img,\"pn\":200,\"rn\":100}\n",
    "access_token = '[调用鉴权接口获取的token]' # 改成自己的\n",
    "request_url = request_url + \"?access_token=\" + access_token\n",
    "headers = {'content-type': 'application/x-www-form-urlencoded'}\n",
    "response = requests.post(request_url, data=params, headers=headers)\n",
    "if response:\n",
    "    print (response.json())"
   ]
  },
  {
   "cell_type": "code",
   "execution_count": null,
   "metadata": {},
   "outputs": [],
   "source": []
  }
 ],
 "metadata": {
  "kernelspec": {
   "display_name": "Python 3",
   "language": "python",
   "name": "python3"
  },
  "language_info": {
   "codemirror_mode": {
    "name": "ipython",
    "version": 3
   },
   "file_extension": ".py",
   "mimetype": "text/x-python",
   "name": "python",
   "nbconvert_exporter": "python",
   "pygments_lexer": "ipython3",
   "version": "3.7.4"
  }
 },
 "nbformat": 4,
 "nbformat_minor": 2
}
